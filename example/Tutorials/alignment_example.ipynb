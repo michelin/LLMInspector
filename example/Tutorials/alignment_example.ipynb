{
 "cells": [
  {
   "cell_type": "markdown",
   "metadata": {},
   "source": [
    "## Creating Alignment data using Tag Augmentation"
   ]
  },
  {
   "cell_type": "markdown",
   "metadata": {},
   "source": [
    "#### Setting up config.ini"
   ]
  },
  {
   "cell_type": "markdown",
   "metadata": {},
   "source": [
    "The code is config driven, thus all the information necessary is obtained from the config.ini. This includes file path, file name and various other parameters that are specific to the tests."
   ]
  },
  {
   "cell_type": "markdown",
   "metadata": {},
   "source": [
    "With respect to the alignment testset creation, we need to have a Golden Dataset which refers to excel file that contains questions with their expected answers. The questions are expected to be formed with TAGS, which will be replaced with their values as mentioned in the config file. Sample golden dataset and config.ini can be found in data section in the examples folder.\n",
    "\n",
    "Lets define the config.ini file with respect to the alignment function. (The complete config.ini file and their sample values can be seen [here](https://github.com/michelin/LLMInspector/wiki/Getting-Started)):\n",
    "\n",
    "```ini\n",
    "[Alignment_File]\n",
    "Alignment_input_FilePath = User/input_file_directory/\n",
    "Alignment_GoldenDataset_FileName= input_file_name.xlsx\n",
    "\n",
    "Alignment_output_path = User/output_file_directory/\n",
    "Alignment_Output_fileName =  /output_file_name_\n",
    "paraphrase_count = 2\n",
    "augmentations = {\n",
    "    'uppercase': ('Robustness', 1),\n",
    "    'lowercase': ('Robustness', 1),\n",
    "    'typo': ('Robustness', 1),\n",
    "    'add_punctuation': ('Robustness', 1),\n",
    "    'strip_punctuation': ('Robustness', 1),\n",
    "    'context': ('Robustness', 1),\n",
    "    'titlecase': ('Robustness', 1),\n",
    "    'contract': ('Robustness', 1),\n",
    "    'abbreviate': ('Robustness', 1),}\n",
    "\n",
    "[Tag_Augmentation_Key]\n",
    "tag_keyword_dict = {\n",
    "    '{greeting}' : ['Hi','Hey', 'Hola', 'Namaste'],\n",
    "    '{seasonality}' : ['summer', 'winter', 'rain', 'all season'],\n",
    "    '{road_condition}' : ['dry', 'off-road', 'wet', 'snow'],\n",
    "    '{brand_name}': ['Apple', 'Tesla','Tata'],\n",
    "    '{product_name}': ['Macbook Pro', 'Apple Watch', 'Macbook Mini', 'Model X'],\n",
    "    '{company_&_location}': [\"Apple, California\"],\n",
    "    '{department}': ['Engineering', 'Design', 'IT', 'Manufacturing'],\n",
    "    '{country_name}': ['India', 'United States', 'China'],\n",
    "    '{city_name}': ['New York', 'Chicago', 'Houston', 'Los Angeles'],\n",
    "    '{nationality}': ['Indian', 'American', 'French'],\n",
    "    '{language}': ['English', 'French', 'Hindi'],\n",
    "    '{activity}': ['Photography', 'Trekking', 'Singing'],\n",
    "    '{mood_positive}': ['happy', 'excited', 'amazing'],\n",
    "    '{mood_negative}': ['sad', 'updset', 'angry'],\n",
    "    }\n",
    "\n",
    "[Augmentation_Type]\n",
    "augmentation_dict = {\n",
    "    'Greetings' : ['greeting'],\n",
    "    'Seasons' : ['seasonality'],\n",
    "    'Rating': ['Season', 'Rating'],\n",
    "    'Road Conditions':['road_condition'],\n",
    "    'Brands' : ['brand_name'],\n",
    "    'Products': ['product_name'],\n",
    "    'Countries':['country_name'],\n",
    "    'Cities': ['city_name'],\n",
    "    'Nationalities': ['nationality'],\n",
    "    'Languages': ['language'],\n",
    "    'Activities': ['activity'],\n",
    "    'Moods': ['mood_positive', 'mood_negative'],\n",
    "    'Locations': ['company_&_location'],\n",
    "    'Job Departments': ['department']\n",
    "    }\n",
    "```\n",
    "\n",
    "The above config contains the necessary variables and their sample values. The user is expected to give the paths and the file name with respect to their project. \n",
    "\n",
    "The tag augmentation keys are the keys that are present in the goldenDataset which are expected to be substituted by their values whih are given in the form of a list. The tags are expected to be writted within '{}'.\n",
    "\n",
    "The sentences that have the tag replaced with their values are then augmented based on the config that is defined in the config as augmentations. Where the key of the dictionary is the operation performed on the sentence whereas the values is the tuple is the capability that it can be tested upon and the percentage of tag replaced sentence are augmented. For example, {'uppercase': ('Robustness', 0.5)}, applies uppercase to all the selected sentences, where 50 percent of the tag augmented sentences are taken in random for each augmentation type.\n",
    "\n",
    "The augmentation_dict has the types as the key and the values as a list of tags that are present in the tag_keyword_dict.\n",
    "\n",
    "The paraphrase count is the number of paraphrased sentence obtained from each augmented sentence."
   ]
  },
  {
   "cell_type": "markdown",
   "metadata": {},
   "source": [
    "#### Code Execution"
   ]
  },
  {
   "cell_type": "code",
   "execution_count": 1,
   "metadata": {},
   "outputs": [],
   "source": [
    "# Importing necessary libraries\n",
    "from llm_inspector.llminspector import llminspector"
   ]
  },
  {
   "cell_type": "code",
   "execution_count": 12,
   "metadata": {},
   "outputs": [],
   "source": [
    "# Initialising the class object\n",
    "obj = llminspector(config_path=\"config.ini\", env_path=\".env\")"
   ]
  },
  {
   "cell_type": "code",
   "execution_count": null,
   "metadata": {},
   "outputs": [],
   "source": [
    "obj.alignment()"
   ]
  }
 ],
 "metadata": {
  "kernelspec": {
   "display_name": "llminspec",
   "language": "python",
   "name": "python3"
  },
  "language_info": {
   "codemirror_mode": {
    "name": "ipython",
    "version": 3
   },
   "file_extension": ".py",
   "mimetype": "text/x-python",
   "name": "python",
   "nbconvert_exporter": "python",
   "pygments_lexer": "ipython3",
   "version": "3.10.14"
  }
 },
 "nbformat": 4,
 "nbformat_minor": 2
}
