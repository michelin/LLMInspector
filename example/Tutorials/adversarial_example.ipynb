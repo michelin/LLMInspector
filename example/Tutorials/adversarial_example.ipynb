{
 "cells": [
  {
   "cell_type": "markdown",
   "metadata": {},
   "source": [
    "## Creating Adversarial Test Data"
   ]
  },
  {
   "cell_type": "markdown",
   "metadata": {},
   "source": [
    "#### Setting up config.ini"
   ]
  },
  {
   "cell_type": "markdown",
   "metadata": {},
   "source": [
    "With respect to the adversarial test set creation, we filter out questions related to various adversarial attacks like Bias, content moderation from a pre-curated set of questions available in the example folder. One may create their own dataset with such capabilities and sub-capabilities as well. This will be updated with more new attacks from time to time.\n",
    "\n",
    "## Config.ini File\n",
    "\n",
    "Let's define the `config.ini` file with respect to the adversarial function. (The complete `config.ini` file and their sample values can be seen [here](https://github.com/michelin/LLMInspector/wiki/Getting-Started)):\n",
    "\n",
    "```ini\n",
    "[Adversarial_File]\n",
    "Adversarial_input_FilePath = User/adversarial_input_file_directory/\n",
    "Adversarial_FileName = file_name.xlsx\n",
    "\n",
    "Adversarial_output_path = User/adversarial_output_file_directory/\n",
    "Adversarial_Output_fileName = /Adversarial_Output_\n",
    "capability = all\n",
    "subCapability = all\n",
    "```\n",
    "\n",
    "## Capabilities and Sub-Capabilities\n",
    "\n",
    "### Bias\n",
    "- Age\n",
    "- Age + Ethnicity\n",
    "- Age + Occupation\n",
    "- Color\n",
    "- Country / Citizenship\n",
    "- Disability Status\n",
    "- Generic\n",
    "- Genetics / Medical\n",
    "- Pregnancy\n",
    "- Race\n",
    "- Religion\n",
    "- Sex\n",
    "\n",
    "### Content Moderation\n",
    "- Escape Characters\n",
    "- Hate\n",
    "- Racist and Sexist\n",
    "- Toxicity\n",
    "- Word Play\n",
    "\n",
    "### Jailbreak\n",
    "- Attention Shifting\n",
    "- Word Play\n",
    "- Repeated Queries\n",
    "- Character Role Play\n",
    "- Assumed Responsibility\n",
    "- Escape Characters\n",
    "- Ignore Instructions\n",
    "- Logical Reasoning\n",
    "- Program Execution\n",
    "- Repeat Queries\n",
    "- Sex\n",
    "- Token Repetition\n",
    "- Word Play\n",
    "\n",
    "### Out of Scope\n",
    "- Attention Shifting\n",
    "- Coding\n",
    "- Definition\n",
    "- Getting Examples\n",
    "- Personal Attributes\n",
    "- Sentiment\n",
    "- Translation\n",
    "- Who Said What\n",
    "- Word Play\n",
    "\n",
    "### Profanity\n",
    "- Ableist Language\n",
    "- Swear Words\n",
    "- Sexist Language\n",
    "- Blasphemy\n",
    "- Obscene Language\n",
    "- Sexual Profanity\n",
    "\n",
    "### Radicalization\n",
    "- Terrorist Propaganda\n",
    "- Hate Speech\n",
    "\n",
    "### Sensitivity\n",
    "- Personal Info\n",
    "- Legal Info\n",
    "- Financial Info\n",
    "\n",
    "The above config contains the necessary variables and their sample values. The user is expected to give the paths and the file name with respect to their project. \n",
    "\n",
    "Only one capability can be filtered at a time."
   ]
  },
  {
   "cell_type": "markdown",
   "metadata": {},
   "source": [
    "#### Code Execution"
   ]
  },
  {
   "cell_type": "code",
   "execution_count": 1,
   "metadata": {},
   "outputs": [],
   "source": [
    "# Importing necessary libraries\n",
    "from llm_inspector.llminspector import llminspector"
   ]
  },
  {
   "cell_type": "code",
   "execution_count": 12,
   "metadata": {},
   "outputs": [],
   "source": [
    "# Initialising the class object\n",
    "obj = llminspector(config_path=\"config.ini\", env_path=\".env\")"
   ]
  },
  {
   "cell_type": "code",
   "execution_count": null,
   "metadata": {},
   "outputs": [],
   "source": [
    "obj.adversarial()"
   ]
  }
 ],
 "metadata": {
  "kernelspec": {
   "display_name": "llminspec",
   "language": "python",
   "name": "python3"
  },
  "language_info": {
   "codemirror_mode": {
    "name": "ipython",
    "version": 3
   },
   "file_extension": ".py",
   "mimetype": "text/x-python",
   "name": "python",
   "nbconvert_exporter": "python",
   "pygments_lexer": "ipython3",
   "version": "3.10.14"
  }
 },
 "nbformat": 4,
 "nbformat_minor": 2
}
